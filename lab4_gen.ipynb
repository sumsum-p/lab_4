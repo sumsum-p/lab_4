{
  "metadata": {
    "kernelspec": {
      "name": "python",
      "display_name": "Python (Pyodide)",
      "language": "python"
    },
    "language_info": {
      "codemirror_mode": {
        "name": "python",
        "version": 3
      },
      "file_extension": ".py",
      "mimetype": "text/x-python",
      "name": "python",
      "nbconvert_exporter": "python",
      "pygments_lexer": "ipython3",
      "version": "3.8"
    }
  },
  "nbformat_minor": 5,
  "nbformat": 4,
  "cells": [
    {
      "id": "3c0d7d49-a209-4ebc-8298-10312bba5768",
      "cell_type": "code",
      "source": "N = 5  \ndef square_generator(N):\n    for i in range(N + 1):\n        yield i ** 2\n\nfor square in square_generator(N):\n    print(square, end=\" \")",
      "metadata": {
        "trusted": true
      },
      "outputs": [
        {
          "name": "stdout",
          "output_type": "stream",
          "text": "0 1 4 9 16 25 "
        }
      ],
      "execution_count": 2
    },
    {
      "id": "667dd009-481d-4f92-ac7b-69ab3512438b",
      "cell_type": "code",
      "source": "n = 10  \n\ndef even_generator(n):\n    for i in range(0, n + 1, 2):\n        yield i\n\nprint(\",\".join(map(str, even_generator(n))))",
      "metadata": {
        "trusted": true
      },
      "outputs": [
        {
          "name": "stdout",
          "output_type": "stream",
          "text": "0,2,4,6,8,10\n"
        }
      ],
      "execution_count": 3
    },
    {
      "id": "ea327444-f619-491a-8b3f-4eaea5d851d9",
      "cell_type": "code",
      "source": "n = 50  \n\ndef divisible_by_3_and_4(n):\n    for i in range(n + 1):\n        if i % 3 == 0 and i % 4 == 0:\n            yield i\n\nfor num in divisible_by_3_and_4(n):\n    print(num, end=\" \")",
      "metadata": {
        "trusted": true
      },
      "outputs": [
        {
          "name": "stdout",
          "output_type": "stream",
          "text": "0 12 24 36 48 "
        }
      ],
      "execution_count": 4
    },
    {
      "id": "b2ad3bfc-c54b-4d16-8425-0e6438ac4342",
      "cell_type": "code",
      "source": "a, b = 3, 6  \n\ndef squares(a, b):\n    for i in range(a, b + 1):\n        yield i ** 2\n\nfor sq in squares(a, b):\n    print(sq, end=\" \")",
      "metadata": {
        "trusted": true
      },
      "outputs": [
        {
          "name": "stdout",
          "output_type": "stream",
          "text": "9 16 25 36 "
        }
      ],
      "execution_count": 5
    },
    {
      "id": "70af8207-0014-4e7d-9484-6bf8b04ba0ab",
      "cell_type": "code",
      "source": "n = 5  \n\ndef countdown(n):\n    while n >= 0:\n        yield n\n        n -= 1\n\nfor num in countdown(n):\n    print(num, end=\" \")",
      "metadata": {
        "trusted": true
      },
      "outputs": [
        {
          "name": "stdout",
          "output_type": "stream",
          "text": "5 4 3 2 1 0 "
        }
      ],
      "execution_count": 6
    },
    {
      "id": "d17d50fc-e94b-4f8e-999f-4f4ac88b808a",
      "cell_type": "code",
      "source": "",
      "metadata": {
        "trusted": true
      },
      "outputs": [],
      "execution_count": null
    }
  ]
}