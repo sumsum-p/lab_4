{
 "cells": [
  {
   "cell_type": "markdown",
   "id": "431f9f2e-9f10-4e60-9e7a-8ada7a8f0773",
   "metadata": {},
   "source": [
    "# Date"
   ]
  },
  {
   "cell_type": "code",
   "execution_count": 14,
   "id": "f2040745-350a-4723-82e1-a29a80ba8cd1",
   "metadata": {},
   "outputs": [
    {
     "name": "stdout",
     "output_type": "stream",
     "text": [
      "02/18/25\n",
      "02/13/25\n"
     ]
    }
   ],
   "source": [
    "from datetime import datetime, timedelta\n",
    "\n",
    "x = datetime.now()\n",
    "print(x.strftime(\"%x\"))\n",
    "y = datetime.now() + timedelta(days=-5)\n",
    "print(y.strftime(\"%x\"))"
   ]
  },
  {
   "cell_type": "code",
   "execution_count": 18,
   "id": "d8323dca-e69a-4bd3-917f-50072b3bf3b9",
   "metadata": {},
   "outputs": [
    {
     "name": "stdout",
     "output_type": "stream",
     "text": [
      "02/18/25\n",
      "02/17/25 02/19/25\n"
     ]
    }
   ],
   "source": [
    "from datetime import datetime, timedelta\n",
    "\n",
    "x = datetime.now()\n",
    "print(x.strftime(\"%x\"))\n",
    "y = datetime.now() + timedelta(days=1)\n",
    "z = datetime.now() + timedelta(days=-1)\n",
    "print(z.strftime(\"%x\"),y.strftime(\"%x\"))"
   ]
  },
  {
   "cell_type": "code",
   "execution_count": 20,
   "id": "71b7c427-34d6-41bf-ae2e-a36c0c112c13",
   "metadata": {},
   "outputs": [
    {
     "name": "stdout",
     "output_type": "stream",
     "text": [
      "2025-02-18 14:38:01\n"
     ]
    }
   ],
   "source": [
    "from datetime import datetime\n",
    "\n",
    "x = datetime.now()\n",
    "y = x.replace(microsecond=0)\n",
    "print(y)"
   ]
  },
  {
   "cell_type": "code",
   "execution_count": 1,
   "id": "5c42e53c-5228-4dfc-9020-06d85d61720e",
   "metadata": {},
   "outputs": [
    {
     "data": {
      "text/plain": [
       "79855790.24188"
      ]
     },
     "execution_count": 1,
     "metadata": {},
     "output_type": "execute_result"
    }
   ],
   "source": [
    "from datetime import datetime\n",
    "\n",
    "x = datetime.now()\n",
    "y = datetime(2022, 8, 11, 5, 6, 12)\n",
    "(x-y).total_seconds()"
   ]
  },
  {
   "cell_type": "markdown",
   "id": "c726391f-9f9b-4fd0-a43e-eaefaa07110a",
   "metadata": {},
   "source": [
    "# iterators and generators"
   ]
  },
  {
   "cell_type": "code",
   "execution_count": 68,
   "id": "f6efdaac-d147-40e3-b157-9af835f143af",
   "metadata": {},
   "outputs": [
    {
     "name": "stdin",
     "output_type": "stream",
     "text": [
      " 4\n"
     ]
    },
    {
     "name": "stdout",
     "output_type": "stream",
     "text": [
      "1\n",
      "4\n",
      "9\n",
      "16\n"
     ]
    }
   ],
   "source": [
    "N = int(input())\n",
    "for i in range(1,N + 1):\n",
    "    print(pow(i,2))"
   ]
  },
  {
   "cell_type": "code",
   "execution_count": 15,
   "id": "15c26e14-b2a2-4e95-994c-c56918444db4",
   "metadata": {},
   "outputs": [
    {
     "name": "stdin",
     "output_type": "stream",
     "text": [
      " 10\n"
     ]
    },
    {
     "name": "stdout",
     "output_type": "stream",
     "text": [
      "0, 2, 4, 6, 8, 10\n"
     ]
    }
   ],
   "source": [
    "N = int(input())\n",
    "evnum = [str(i) for i in range(0, N + 1) if i % 2 == 0]\n",
    "print(\", \".join(evnum))"
   ]
  },
  {
   "cell_type": "code",
   "execution_count": 19,
   "id": "e7c39782-ef74-4ae8-9c1d-43c5aa8844ac",
   "metadata": {},
   "outputs": [
    {
     "name": "stdin",
     "output_type": "stream",
     "text": [
      " 100\n"
     ]
    },
    {
     "name": "stdout",
     "output_type": "stream",
     "text": [
      "0, 12, 24, 36, 48, 60, 72, 84, 96\n"
     ]
    }
   ],
   "source": [
    "N = int(input())\n",
    "div = [str(i) for i in range(0,N + 1) if i % 3 ==0 and i % 4 == 0]\n",
    "print(\", \".join(div))"
   ]
  },
  {
   "cell_type": "code",
   "execution_count": 78,
   "id": "701eff59-8f65-429a-98b5-4e2d8eb25539",
   "metadata": {},
   "outputs": [
    {
     "name": "stdout",
     "output_type": "stream",
     "text": [
      "1\n",
      "4\n",
      "9\n",
      "16\n",
      "25\n",
      "36\n",
      "49\n",
      "64\n",
      "81\n",
      "100\n"
     ]
    }
   ],
   "source": [
    "def square(a,b):\n",
    "    for i in range(a,b + 1):\n",
    "        print(pow(i,2)) \n",
    "\n",
    "ctr = square(1,10)"
   ]
  },
  {
   "cell_type": "code",
   "execution_count": 86,
   "id": "8ab911dd-592b-4bd3-b97a-e283a2f51ff9",
   "metadata": {},
   "outputs": [
    {
     "name": "stdin",
     "output_type": "stream",
     "text": [
      " 10\n"
     ]
    },
    {
     "name": "stdout",
     "output_type": "stream",
     "text": [
      "10\n",
      "9\n",
      "8\n",
      "7\n",
      "6\n",
      "5\n",
      "4\n",
      "3\n",
      "2\n",
      "1\n",
      "0\n"
     ]
    }
   ],
   "source": [
    "N = int(input())\n",
    "for i in range(N,-1,-1):\n",
    "    print(i)"
   ]
  },
  {
   "cell_type": "markdown",
   "id": "fb23f787-7002-4ef4-8e5b-f3b767dff847",
   "metadata": {},
   "source": [
    "# Math library"
   ]
  },
  {
   "cell_type": "code",
   "execution_count": 91,
   "id": "2b6dc6fe-cd34-4329-a5b2-e1494c8e2782",
   "metadata": {},
   "outputs": [
    {
     "name": "stdin",
     "output_type": "stream",
     "text": [
      " 15\n"
     ]
    },
    {
     "name": "stdout",
     "output_type": "stream",
     "text": [
      "0.2617993877991494\n"
     ]
    }
   ],
   "source": [
    "import math\n",
    "\n",
    "x = int(input())\n",
    "print(math.radians(x))"
   ]
  },
  {
   "cell_type": "code",
   "execution_count": 95,
   "id": "35947ecf-e5ae-45fc-adb3-3e99c1e514fe",
   "metadata": {},
   "outputs": [
    {
     "name": "stdin",
     "output_type": "stream",
     "text": [
      " 5\n",
      " 5\n",
      " 6\n"
     ]
    },
    {
     "name": "stdout",
     "output_type": "stream",
     "text": [
      "27.5\n"
     ]
    }
   ],
   "source": [
    "h = int(input())\n",
    "a = int(input())\n",
    "b = int(input())\n",
    "print(((a+b)/2)*h)"
   ]
  },
  {
   "cell_type": "code",
   "execution_count": 101,
   "id": "33353bbf-821d-42d7-a5a4-e4619c0b62aa",
   "metadata": {},
   "outputs": [
    {
     "name": "stdin",
     "output_type": "stream",
     "text": [
      " 4\n",
      " 25\n"
     ]
    },
    {
     "name": "stdout",
     "output_type": "stream",
     "text": [
      "625\n"
     ]
    }
   ],
   "source": [
    "import math\n",
    "\n",
    "n = int(input())\n",
    "l = float(input())\n",
    "area = (n * l**2) / (4 * math.tan(math.pi / n))\n",
    "print(int(area))"
   ]
  },
  {
   "cell_type": "code",
   "execution_count": 103,
   "id": "c189a29c-1813-4e15-a47c-e52c2e71ef23",
   "metadata": {},
   "outputs": [
    {
     "name": "stdin",
     "output_type": "stream",
     "text": [
      " 5\n",
      " 6\n"
     ]
    },
    {
     "name": "stdout",
     "output_type": "stream",
     "text": [
      "30.0\n"
     ]
    }
   ],
   "source": [
    "a = int(input())\n",
    "h = int(input())\n",
    "area = a * h\n",
    "print(f\"{area:.1f}\")"
   ]
  },
  {
   "cell_type": "markdown",
   "id": "0fbda81d-c99b-4091-a06c-5790f948609d",
   "metadata": {},
   "source": [
    "# Json"
   ]
  },
  {
   "cell_type": "code",
   "execution_count": null,
   "id": "9852e919-aa9d-4bda-b8cc-98f433e9b8a1",
   "metadata": {},
   "outputs": [],
   "source": [
    "import json\n",
    "\n",
    "with open(\"sample-data.json\", \"r\") as file:\n",
    "    data = json.load(file) \n",
    "interfaces = data[\"imdata\"]\n",
    "print(\"Interface Status\")\n",
    "print(\"=\" * 50)\n",
    "print(f\"{'DN':<50} {'Description':<20} {'Speed':<10} {'MTU'}\")\n",
    "print(\"-\" * 50)\n",
    "for item in interfaces:\n",
    "    attributes = item[\"l1PhysIf\"][\"attributes\"] \n",
    "    dn = attributes[\"dn\"]\n",
    "    descr = attributes.get(\"descr\", \"\")\n",
    "    speed = attributes[\"speed\"]\n",
    "    mtu = attributes[\"mtu\"]\n",
    "    print(f\"{dn:<50} {descr:<20} {speed:<10} {mtu}\")"
   ]
  }
 ],
 "metadata": {
  "kernelspec": {
   "display_name": "Python [conda env:anaconda3] *",
   "language": "python",
   "name": "conda-env-anaconda3-py"
  },
  "language_info": {
   "codemirror_mode": {
    "name": "ipython",
    "version": 3
   },
   "file_extension": ".py",
   "mimetype": "text/x-python",
   "name": "python",
   "nbconvert_exporter": "python",
   "pygments_lexer": "ipython3",
   "version": "3.12.7"
  }
 },
 "nbformat": 4,
 "nbformat_minor": 5
}
